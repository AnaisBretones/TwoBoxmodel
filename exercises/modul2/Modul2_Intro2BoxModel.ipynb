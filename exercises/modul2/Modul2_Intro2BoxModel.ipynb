{
 "cells": [
  {
   "cell_type": "markdown",
   "metadata": {},
   "source": [
    "# Modul 1.2 Klimasystemet - Toboksmodellen\n",
    "<img src=\"Bilder/2D_model_schematic.png\">\n",
    "\n",
    "I denne øvelsen ska vi gi en innføring i 2boksmodellen og hvordan vi ka bruke den til å beregne ændringer i jordens temperatur over tid. Toboksmodellen er en forenklet klimamodell. Den ser på hvordan energibalancen på jorden endrer seg utfra endringer i de ulike strålingspådrivene. I figuren over ser dere at man ser på en balanse mellom stråling som går inn og ut på toppen av atmosfæren (TOA), samt de energiovergangene vi har på grensen mellom atmosfæren og det øverste laget i havet, samt at det går noe varme fra havets blandingslag til dyphavet. \n",
    "\n",
    "De som ønsker å forstå hvordan man kommer frem til formlene for beregning av temperaturendring som følge av endringer i strålingspådrivet anbefales å lese kompendiet *Climate Sensitivity*. Der vises det hvordan vi kommer frem til likningene under. Disse likningene er kodet og ligger i en Python-fil i mappen deres. Filen heter toboks.py.\n",
    "\n",
    "$c_{mix}$ og $c_{deep}$ forteller om varmekapasiteten til overflatelaget i havet og i dyphavet. $\\Delta T_s$ gir endringer i overflatetemperaturer, mens $\\Delta T_o$ endringer i temperaturen i dyphavet. $\\lambda$ er tilbakekoblingseffekter (*climate feedbaks*), og $\\gamma$ varmeopptak i havet.\n",
    "\n",
    "$$\\begin{align}\n",
    "c_{mix}\\dfrac{d\\Delta T_s}{dt}&=\\Delta Q-\\lambda \\Delta T_s -\\gamma (\\Delta T_s -\\Delta T_0)     \\qquad   (\\mathit{1}) \\\\\n",
    "c_{deep}\\dfrac{d\\Delta T_o}{dt}&=\\gamma (\\Delta T_s - \\Delta T_o)  \\qquad   (\\mathit{2}) \n",
    "\\end{align}$$\n"
   ]
  },
  {
   "cell_type": "code",
   "execution_count": 1,
   "metadata": {},
   "outputs": [
    {
     "name": "stderr",
     "output_type": "stream",
     "text": [
      "UsageError: unrecognized arguments: inkluder denne linjen om du vil åpne i Jupyter Notebook og vil lage interaktive plott\n"
     ]
    }
   ],
   "source": [
    "# Lese inn relavente python pakker vi ska bruke\n",
    "import pandas as pd\n",
    "import matplotlib.pyplot as plt\n",
    "%matplotlib inline inkluder denne linjen om du vil åpne i Jupyter Notebook og vil lage interaktive plott\n",
    "\n",
    "from toboks import calculate_temp_anomalies # henter funksjonen som beregner temperaturanomalier basert på toboksmodellen\n"
   ]
  },
  {
   "cell_type": "markdown",
   "metadata": {},
   "source": [
    "## Sette op ToBoksModellen\n",
    "For at sette opp modellen, må vi først hente inn data for de ulike strålingspådriv og beregne det totale pådriv ($\\Delta$Q). Dernæst må vi bestemme hvilke ulike tilbagekoblingsfaktorer ($\\gamma$) som modellen ska ta med. Dette bruker 2boksmodellen som \"input\" for å lage beregninger."
   ]
  },
  {
   "cell_type": "markdown",
   "metadata": {},
   "source": [
    "### 1. Bestem strålingspådrivene\n",
    "\n",
    "I denne øvelsen tar vi utgangspunkt i historisk data for perioden 1750-2011 som er basert på observationer. Her ser vi på følgene strålingspådriv:\n",
    "\n",
    "- drivhusgasser \n",
    "- solinnstråling\n",
    "- vulkanisme\n",
    "- arealbruk \n",
    "- aerosoler (menneskeskapte)\n",
    "\n",
    "Det totale strålingspådriv ($\\Delta$Q) er givet ved:\n",
    "\n",
    "$$\\begin{align}\n",
    "\\Delta Q=\\Delta Q_{drivhus} + \\Delta Q_{sol} + \\Delta Q_{vulkan} + \\Delta Q_{arealbruk} + \\Delta Q_{aerosoler} \n",
    "\\end{align}$$\n"
   ]
  },
  {
   "cell_type": "code",
   "execution_count": null,
   "metadata": {},
   "outputs": [],
   "source": [
    "# les inn historisk data fra filen 'historical.csv'\n",
    "df=pd.read_csv('historical_IPCC6.csv',index_col = 0,sep=',',encoding = \"utf-8\")"
   ]
  },
  {
   "cell_type": "markdown",
   "metadata": {},
   "source": [
    "Noen ganger så ønsker man bare å studere effektene av eksempelvis solens aktivitet. Sett parameterne under til 1 eller 0, alt ettersom du ønsker å ha dem med eller ei. I koden under lages en ny dataramme som inneholder totalt pådriv med disse faktorene."
   ]
  },
  {
   "cell_type": "code",
   "execution_count": null,
   "metadata": {},
   "outputs": [],
   "source": [
    "# --------------------\n",
    "# Forcing switches [n=1 off=0]\n",
    "# --------------------\n",
    "switch_ghg=1     # Greenhouse gas forcing on=1 off=0\n",
    "switch_solar=1   # Solar forcing on=1 off=0\n",
    "switch_volc=1    # Volcanic forcing on=1 off=0\n",
    "switch_land=1    # Landuse forcing on=1 off=0\n",
    "switch_aero=1    # Pollution particle forcing on=1 off=0"
   ]
  },
  {
   "cell_type": "code",
   "execution_count": null,
   "metadata": {},
   "outputs": [],
   "source": [
    "# Beregn og plot det totale strålingspådriv\n",
    "total_forcing = switch_ghg*df['drivhusgasser']+switch_solar*df['solinnstråling']+switch_volc*df['vulkanisme']+switch_land*df['arealbruk']+switch_aero*df['aerosoler']\n",
    "total_forcing.plot(title=\"Samlet strålingspådriv\",ylabel=\"$W/m^2$\")\n",
    "plt.axhline(y=0, linewidth=0.7, color=\"black\")"
   ]
  },
  {
   "cell_type": "markdown",
   "metadata": {},
   "source": [
    "### 2. Bestem tilbakekoblingsfaktorer (climate feedbacks)"
   ]
  },
  {
   "cell_type": "markdown",
   "metadata": {},
   "source": [
    "Værdiene for de ulike tilbakekoblingsfaktorer er hentet fra *Soden and Held (2006)* og er basert på output fra 14 ulike klimamodeller som bidrar til IPCC rapporten. \n",
    "\n",
    "<img src=\"Bilder/table_lambda_values.png\">\n"
   ]
  },
  {
   "cell_type": "code",
   "execution_count": null,
   "metadata": {},
   "outputs": [],
   "source": [
    "# CMIP5 values\n",
    "lambda_planck=-3.21     # Stefan Boltzmann's 'feedback' [Wm-2K-1] best guesses  [-3.3 to -3.1]\n",
    "lambda_lapse=-0.84      # Lapse rate feedback [Wm-2K-1] best guesses [-1.2 to -0.5]\n",
    "lambda_water=1.8       # water vapor feedback [Wm-2K-1] best guesses [1.5 to 2.2]\n",
    "lambda_cloud=0.69      # Clouds feedback [Wm-2K-1] best guesses [0.1 to 1.2]\n",
    "lambda_albedo=0.26     # Surface albedo feedback [Wm-2K-1] best guesses [0.1 to 0.4]\n",
    "lambda_other=0.0       # Other feedbacks [Wm-2K-1]\n",
    "\n",
    "lambda_sum=sum([lambda_planck,\n",
    "    lambda_lapse,\n",
    "    lambda_water,\n",
    "    lambda_cloud,\n",
    "    lambda_albedo,\n",
    "    lambda_other])"
   ]
  },
  {
   "cell_type": "code",
   "execution_count": null,
   "metadata": {},
   "outputs": [],
   "source": [
    "# Deep ocean heat uptake efficency [Wm-2K-1] fra Dufresne and Bony (2008).\n",
    "gamma=-0.69  # best guesses [-1 to -0.5]"
   ]
  },
  {
   "cell_type": "code",
   "execution_count": null,
   "metadata": {},
   "outputs": [],
   "source": [
    "radiative_forcing = total_forcing.to_numpy() # konverter dataframe til data-array"
   ]
  },
  {
   "cell_type": "markdown",
   "metadata": {},
   "source": [
    "## Temperaturendringer for perioden 1750-2011\n",
    "Vi ønsker nå å beregne hvordan temperaturen endrer seg som resultat av hvilke strålingspådriv vi har slått på, verdiene vi har satt for tilbakekoblingsmekanismer, og varmeutveksling til havet. "
   ]
  },
  {
   "cell_type": "code",
   "execution_count": null,
   "metadata": {},
   "outputs": [],
   "source": [
    "Ts, To = calculate_temp_anomalies(radiative_forcing, lambda_sum, gamma) # kaller opp funksjonen som regner ut temperaturendringene"
   ]
  },
  {
   "cell_type": "code",
   "execution_count": null,
   "metadata": {},
   "outputs": [],
   "source": [
    "temp = pd.DataFrame(index=df.index) # vi lager en ny dataramme som har samme indexer (i.e. årstal) som pådrivet\n",
    "temp['Temp.endring overflate']=Ts\n",
    "temp['Temp.endring dyphavet']=To\n",
    "temp.plot(ylabel=\"$\\Delta T$  $[^oC]$\", title=\"Temperaturendringer\")\n",
    "plt.axhline(y=0, linewidth=0.7, color=\"black\")"
   ]
  },
  {
   "cell_type": "code",
   "execution_count": null,
   "metadata": {},
   "outputs": [],
   "source": [
    "# samme plot men i hver sin figur\n",
    "temp.plot(subplots=True)"
   ]
  },
  {
   "cell_type": "markdown",
   "metadata": {},
   "source": [
    "## Øvelser\n",
    "\n",
    "Nu har dere fået et innblikk i hvordan modellen fungerer. Bruk hva dere har lært til at undersøke følgene:\n",
    "    \n",
    "1. Beregn og plot endringen i overflatetemperatur (*Ts*) relativt til perioden 1850-1900 (*pre-industrial period*)\n",
    "    - TIPS\n",
    "        - prøv å lage en ny variabel som bare inneholder *Ts* for perioden 1850-1900 (e.g. \"Ts1850_1900\"). Se notebook fra Modul0 for hjelp. \n",
    "        - beregn nu middelstemp. for denne periode (bruk funktionen .mean()). NB. alt ka gjøres i én enkel linje. \n",
    "        \n",
    "        \n",
    "2. Hvor mye har overflatetemperaturen (*Ts*) i år 2011 endret sig i forhold til perioden 1850-1900? \n",
    "\n",
    "3. Hva er den primære årsakken til denne endringen? Finn en måte å illustrere dette på.\n",
    "\n",
    "4. Forklar med dine egen ord betydingen av hvert led i ligning (1). Undersøk deretter med modellen ved å slå av/på henholdsvis tilbakekoblingsmek. ($\\lambda$) og varmeutveklsingen ($\\gamma$)\n",
    "\n",
    "    - Hvordan påvirkes overflatetemperaturen av disse endringene?\n",
    "\n"
   ]
  },
  {
   "cell_type": "markdown",
   "metadata": {},
   "source": [
    "### BONUS: Finn selv på noe å undersøke med modellen\n",
    "Presenter efterfølgende for resten af gruppen"
   ]
  }
 ],
 "metadata": {
  "kernelspec": {
   "display_name": "Python 3",
   "language": "python",
   "name": "python3"
  },
  "language_info": {
   "codemirror_mode": {
    "name": "ipython",
    "version": 3
   },
   "file_extension": ".py",
   "mimetype": "text/x-python",
   "name": "python",
   "nbconvert_exporter": "python",
   "pygments_lexer": "ipython3",
   "version": "3.7.4"
  }
 },
 "nbformat": 4,
 "nbformat_minor": 4
}
