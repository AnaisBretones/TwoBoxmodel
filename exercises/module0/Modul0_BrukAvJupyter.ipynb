{
 "cells": [
  {
   "cell_type": "markdown",
   "metadata": {},
   "source": [
    "# Modul 0 - Bruk av JupyterLab til øvelser \n",
    "I kurset skal vi etterhvert bruke en enkel klimamodell, en toboksmodell, for å beregne temperaturresponser på ulike faktorer. Vi skal både bruke fortidsdata som er basert på observasjoner, og fremtidsdata som er basert på de større klimamodellene. \n",
    "\n",
    "I denne modulen skal du trene på å hente inn data som ligger i en csv-fil, og så bruke kommandoer fra biblioteket `pandas` til å hente ut informasjon fra de dataene som ligger i filen. Pandas gjør det enkelt å lage finere plot, og å hente ut spesifikke data fra datafilen, selv om datamengden er stor. "
   ]
  },
  {
   "cell_type": "code",
   "execution_count": 2,
   "metadata": {},
   "outputs": [],
   "source": [
    "import pandas as pd # importerer pandas og bruker forkortelsen pd\n",
    "import matplotlib.pyplot as plt # importerer bibliotek som gjør at man kan lage plott liknende MatLab\n",
    "\n",
    "df=pd.read_csv('historical.csv',index_col = 0,sep=',',encoding = \"utf-8\") "
   ]
  },
  {
   "cell_type": "markdown",
   "metadata": {},
   "source": [
    "# Visualisér dine data\n",
    "Du kan visualisere det data som du netop har lastet inn ved at taste inn navnet på din dataframe (i.e. <b>df</b>)"
   ]
  },
  {
   "cell_type": "code",
   "execution_count": 3,
   "metadata": {},
   "outputs": [
    {
     "data": {
      "text/html": [
       "<div>\n",
       "<style scoped>\n",
       "    .dataframe tbody tr th:only-of-type {\n",
       "        vertical-align: middle;\n",
       "    }\n",
       "\n",
       "    .dataframe tbody tr th {\n",
       "        vertical-align: top;\n",
       "    }\n",
       "\n",
       "    .dataframe thead th {\n",
       "        text-align: right;\n",
       "    }\n",
       "</style>\n",
       "<table border=\"1\" class=\"dataframe\">\n",
       "  <thead>\n",
       "    <tr style=\"text-align: right;\">\n",
       "      <th></th>\n",
       "      <th>drivhusgasser</th>\n",
       "      <th>solinnstråling</th>\n",
       "      <th>vulkanisme</th>\n",
       "      <th>arealbruk</th>\n",
       "      <th>aerosoler</th>\n",
       "    </tr>\n",
       "    <tr>\n",
       "      <th>År</th>\n",
       "      <th></th>\n",
       "      <th></th>\n",
       "      <th></th>\n",
       "      <th></th>\n",
       "      <th></th>\n",
       "    </tr>\n",
       "  </thead>\n",
       "  <tbody>\n",
       "    <tr>\n",
       "      <th>1751.0</th>\n",
       "      <td>-0.019</td>\n",
       "      <td>-0.014</td>\n",
       "      <td>0.000</td>\n",
       "      <td>0.000</td>\n",
       "      <td>-0.002</td>\n",
       "    </tr>\n",
       "    <tr>\n",
       "      <th>1752.0</th>\n",
       "      <td>-0.018</td>\n",
       "      <td>-0.029</td>\n",
       "      <td>0.000</td>\n",
       "      <td>-0.001</td>\n",
       "      <td>-0.004</td>\n",
       "    </tr>\n",
       "    <tr>\n",
       "      <th>1753.0</th>\n",
       "      <td>-0.017</td>\n",
       "      <td>-0.033</td>\n",
       "      <td>0.000</td>\n",
       "      <td>-0.001</td>\n",
       "      <td>-0.005</td>\n",
       "    </tr>\n",
       "    <tr>\n",
       "      <th>1754.0</th>\n",
       "      <td>-0.017</td>\n",
       "      <td>-0.043</td>\n",
       "      <td>0.000</td>\n",
       "      <td>-0.002</td>\n",
       "      <td>-0.007</td>\n",
       "    </tr>\n",
       "    <tr>\n",
       "      <th>1755.0</th>\n",
       "      <td>-0.016</td>\n",
       "      <td>-0.054</td>\n",
       "      <td>-0.664</td>\n",
       "      <td>-0.002</td>\n",
       "      <td>-0.009</td>\n",
       "    </tr>\n",
       "    <tr>\n",
       "      <th>...</th>\n",
       "      <td>...</td>\n",
       "      <td>...</td>\n",
       "      <td>...</td>\n",
       "      <td>...</td>\n",
       "      <td>...</td>\n",
       "    </tr>\n",
       "    <tr>\n",
       "      <th>2007.0</th>\n",
       "      <td>2.697</td>\n",
       "      <td>-0.017</td>\n",
       "      <td>-0.100</td>\n",
       "      <td>-0.150</td>\n",
       "      <td>-0.907</td>\n",
       "    </tr>\n",
       "    <tr>\n",
       "      <th>2008.0</th>\n",
       "      <td>2.728</td>\n",
       "      <td>-0.025</td>\n",
       "      <td>-0.100</td>\n",
       "      <td>-0.150</td>\n",
       "      <td>-0.904</td>\n",
       "    </tr>\n",
       "    <tr>\n",
       "      <th>2009.0</th>\n",
       "      <td>2.761</td>\n",
       "      <td>-0.027</td>\n",
       "      <td>-0.125</td>\n",
       "      <td>-0.150</td>\n",
       "      <td>-0.902</td>\n",
       "    </tr>\n",
       "    <tr>\n",
       "      <th>2010.0</th>\n",
       "      <td>2.794</td>\n",
       "      <td>0.001</td>\n",
       "      <td>-0.100</td>\n",
       "      <td>-0.150</td>\n",
       "      <td>-0.900</td>\n",
       "    </tr>\n",
       "    <tr>\n",
       "      <th>2011.0</th>\n",
       "      <td>2.831</td>\n",
       "      <td>0.030</td>\n",
       "      <td>-0.125</td>\n",
       "      <td>-0.150</td>\n",
       "      <td>-0.900</td>\n",
       "    </tr>\n",
       "  </tbody>\n",
       "</table>\n",
       "<p>261 rows × 5 columns</p>\n",
       "</div>"
      ],
      "text/plain": [
       "        drivhusgasser  solinnstråling  vulkanisme  arealbruk  aerosoler\n",
       "År                                                                     \n",
       "1751.0         -0.019          -0.014       0.000      0.000     -0.002\n",
       "1752.0         -0.018          -0.029       0.000     -0.001     -0.004\n",
       "1753.0         -0.017          -0.033       0.000     -0.001     -0.005\n",
       "1754.0         -0.017          -0.043       0.000     -0.002     -0.007\n",
       "1755.0         -0.016          -0.054      -0.664     -0.002     -0.009\n",
       "...               ...             ...         ...        ...        ...\n",
       "2007.0          2.697          -0.017      -0.100     -0.150     -0.907\n",
       "2008.0          2.728          -0.025      -0.100     -0.150     -0.904\n",
       "2009.0          2.761          -0.027      -0.125     -0.150     -0.902\n",
       "2010.0          2.794           0.001      -0.100     -0.150     -0.900\n",
       "2011.0          2.831           0.030      -0.125     -0.150     -0.900\n",
       "\n",
       "[261 rows x 5 columns]"
      ]
     },
     "execution_count": 3,
     "metadata": {},
     "output_type": "execute_result"
    }
   ],
   "source": [
    "df"
   ]
  },
  {
   "cell_type": "code",
   "execution_count": 10,
   "metadata": {},
   "outputs": [
    {
     "data": {
      "text/plain": [
       "<matplotlib.axes._subplots.AxesSubplot at 0x7f6a49b4d850>"
      ]
     },
     "execution_count": 10,
     "metadata": {},
     "output_type": "execute_result"
    },
    {
     "data": {
      "image/png": "[encoded data removed]",
      "text/plain": [
       "<Figure size 432x288 with 1 Axes>"
      ]
     },
     "metadata": {
      "needs_background": "light"
     },
     "output_type": "display_data"
    }
   ],
   "source": [
    "df.index=df.index.astype(int) # årstallene lastes inn som flyttall - her endres de til heltall\n",
    "df[['solinnstråling','vulkanisme']].plot() # her lager vi plot fra de dataene som finnes i datafilen, vi har ikke gjort noen beregninger"
   ]
  },
  {
   "cell_type": "code",
   "execution_count": 3,
   "metadata": {},
   "outputs": [
    {
     "data": {
      "text/plain": [
       "<matplotlib.axes._subplots.AxesSubplot at 0x7f60e3aa89d0>"
      ]
     },
     "execution_count": 3,
     "metadata": {},
     "output_type": "execute_result"
    },
    {
     "data": {
      "image/png": "[encoded data removed]",
      "text/plain": [
       "<Figure size 432x288 with 1 Axes>"
      ]
     },
     "metadata": {
      "needs_background": "light"
     },
     "output_type": "display_data"
    }
   ],
   "source": [
    "df.plot(ylabel=\"W/m$^2$\",title=\"Strålingspådriv fra ulike faktorer fra 1750 og frem til i dag\")\n",
    "# her har vi lagt til litt mer informasjon til selve plottet, men fortsatt ingen beregninger"
   ]
  },
  {
   "cell_type": "markdown",
   "metadata": {},
   "source": [
    "## Hente spesifikke data\n",
    "Noen ganger ønsker vi å se på verdier fra spesifikke år. Årstallene fungerer som index i datarammen vi har laget med dataene. Vi kan derfor hente ut verdiene fra de ulike årstallene som vist under. Denne metoden vil dere få bruk for i oppgavene senere. Test gjerne ut med ulike årstall. \n",
    "`df.loc[årstall]`"
   ]
  },
  {
   "cell_type": "code",
   "execution_count": null,
   "metadata": {},
   "outputs": [],
   "source": [
    "df.loc[1900]"
   ]
  },
  {
   "cell_type": "code",
   "execution_count": null,
   "metadata": {},
   "outputs": [],
   "source": [
    "df.loc[1900,'solinnstråling']"
   ]
  },
  {
   "cell_type": "markdown",
   "metadata": {},
   "source": [
    "### Lete etter verdier\n",
    "Vi har også mulighet til å lete etter bestemte verdier eller intervaller. Under vises en måte å hente ut data for når pådrivet fra vulkaner er mindre enn $-4 W/m^2$. "
   ]
  },
  {
   "cell_type": "code",
   "execution_count": null,
   "metadata": {},
   "outputs": [],
   "source": [
    "df.loc[df['vulkanisme']<-4]"
   ]
  },
  {
   "cell_type": "markdown",
   "metadata": {},
   "source": [
    "Vi kan også velge å bare vise den kolonnen som vi er interessert i:"
   ]
  },
  {
   "cell_type": "code",
   "execution_count": null,
   "metadata": {},
   "outputs": [],
   "source": [
    "df.loc[df['vulkanisme']<-4,'vulkanisme']"
   ]
  },
  {
   "cell_type": "markdown",
   "metadata": {},
   "source": [
    "## Hvilke faktorer ønsker du å ta med i beregningene?\n",
    "Noen ganger så ønsker man bare å studere effektene av eksempelvis solens aktivitet. Sett parameterne under til 1 eller 0, alt ettersom du ønsker å ha dem med eller ei. I koden under lages en ny dataramme som inneholder totalt pådriv med disse faktorene."
   ]
  },
  {
   "cell_type": "code",
   "execution_count": 58,
   "metadata": {},
   "outputs": [],
   "source": [
    "# --------------------\n",
    "# Forcing switches [n=1 off=0]\n",
    "# --------------------\n",
    "switch_ghg=0     # Greenhouse gas forcing on=1 off=0\n",
    "switch_solar=1   # Solar forcing on=1 off=0\n",
    "switch_volc=0    # Volcanic forcing on=1 off=0\n",
    "switch_land=0    # Landuse forcing on=1 off=0\n",
    "switch_aero=0    # Pollution particle forcing on=1 off=0"
   ]
  },
  {
   "cell_type": "code",
   "execution_count": 59,
   "metadata": {},
   "outputs": [
    {
     "data": {
      "text/plain": [
       "<matplotlib.lines.Line2D at 0x7f60e1a1e910>"
      ]
     },
     "execution_count": 59,
     "metadata": {},
     "output_type": "execute_result"
    },
    {
     "data": {
      "image/png": "[encoded data removed]",
      "text/plain": [
       "<Figure size 432x288 with 1 Axes>"
      ]
     },
     "metadata": {
      "needs_background": "light"
     },
     "output_type": "display_data"
    }
   ],
   "source": [
    "total_forcing = switch_ghg*df['drivhusgasser']+switch_solar*df['solinnstråling']+switch_volc*df['vulkanisme']+switch_land*df['arealbruk']+switch_aero*df['aerosoler']\n",
    "total_forcing.plot()\n",
    "plt.axhline(y=0, linewidth=0.7, color=\"black\")"
   ]
  },
  {
   "cell_type": "markdown",
   "metadata": {},
   "source": [
    "## Veien videre\n",
    "Senere skal vi bruke disse dataene til å si noe om temperaturresponsen i klimasystemet basert på de ulike drivkreftene. Vi skal bruke en enkel klimamodell for å kunne studere hvordan de ulike faktorene påvirker temperaturen i atmosfæren."
   ]
  },
  {
   "cell_type": "markdown",
   "metadata": {},
   "source": [
    "# Beregne middelsværdier og sum"
   ]
  },
  {
   "cell_type": "code",
   "execution_count": 47,
   "metadata": {},
   "outputs": [
    {
     "name": "stdout",
     "output_type": "stream",
     "text": [
      "0    3.75\n",
      "1    2.25\n",
      "2    2.00\n",
      "dtype: float64\n",
      "0    15\n",
      "1     9\n",
      "2     8\n",
      "dtype: int64\n"
     ]
    }
   ],
   "source": [
    "# oprett simpel dataframe for test\n",
    "data = [[1, 1, 2], [6, 4, 2], [4, 2, 1], [4, 2, 3]]\n",
    "\n",
    "A = pd.DataFrame(data)\n",
    "\n",
    "# Beregn middelsverdi langs rekker\n",
    "print(A.mean())\n",
    "\n",
    "# Tilsvarende ka vi også beregne summen via funktionen \"df.sum()\"\n",
    "print(A.sum())"
   ]
  },
  {
   "cell_type": "markdown",
   "metadata": {},
   "source": [
    "Som default beregnes middelsværdien langs den 1. dimension av dataframe (langs rekker). Om du vil beregne værdien langs kolonner istedet må du definere dette:"
   ]
  },
  {
   "cell_type": "code",
   "execution_count": 48,
   "metadata": {},
   "outputs": [
    {
     "name": "stdout",
     "output_type": "stream",
     "text": [
      "0    1.333333\n",
      "1    4.000000\n",
      "2    2.333333\n",
      "3    3.000000\n",
      "dtype: float64\n",
      "0     4\n",
      "1    12\n",
      "2     7\n",
      "3     9\n",
      "dtype: int64\n"
     ]
    }
   ],
   "source": [
    "# middelsværdi langs kolonner\n",
    "print(A.mean(axis='columns'))\n",
    "\n",
    "# sum langs kolonner\n",
    "print(A.sum(axis='columns'))"
   ]
  },
  {
   "cell_type": "markdown",
   "metadata": {},
   "source": [
    "## Beregne middelsværdier av strålingsdata \n",
    "Prøv nu å beregne middelsværdien for \n",
    "1. hele tidsperioden (år 1750-2011) for hver strålingspådriv (*drivhusgasser, solinnstråling, vulkanisme, arealbruk, aerosoler*)  \n",
    "2. det totale strålingspådriv, men for hvert årstall "
   ]
  },
  {
   "cell_type": "code",
   "execution_count": 35,
   "metadata": {},
   "outputs": [
    {
     "name": "stdout",
     "output_type": "stream",
     "text": [
      "drivhusgasser     0.643103\n",
      "solinnstråling    0.005862\n",
      "vulkanisme       -0.405923\n",
      "arealbruk        -0.063475\n",
      "aerosoler        -0.314153\n",
      "dtype: float64\n",
      "År\n",
      "1751   -0.0070\n",
      "1752   -0.0104\n",
      "1753   -0.0112\n",
      "1754   -0.0138\n",
      "1755   -0.1490\n",
      "         ...  \n",
      "2007    0.3046\n",
      "2008    0.3098\n",
      "2009    0.3114\n",
      "2010    0.3290\n",
      "2011    0.3372\n",
      "Length: 261, dtype: float64\n"
     ]
    }
   ],
   "source": [
    "print(df.mean())\n",
    "\n",
    "print(df.mean(axis='columns'))"
   ]
  },
  {
   "cell_type": "markdown",
   "metadata": {},
   "source": [
    "## Beregne middelværdier over en bestemt periode\n",
    "\n",
    "For at få utt værdier over en bestemt periode (eller for en bestemt variabel) kan vi benytte funktionen *loc*, som vi brukte tidligere\n"
   ]
  },
  {
   "cell_type": "code",
   "execution_count": 49,
   "metadata": {},
   "outputs": [
    {
     "name": "stdout",
     "output_type": "stream",
     "text": [
      "      drivhusgasser  solinnstråling  vulkanisme  arealbruk  aerosoler\n",
      "År                                                                   \n",
      "1800          0.113          -0.055       0.000     -0.020     -0.089\n",
      "1801          0.118          -0.021      -0.154     -0.020     -0.091\n",
      "1802          0.122          -0.010      -0.048     -0.021     -0.093\n",
      "1803          0.125          -0.033      -0.011     -0.021     -0.095\n",
      "1804          0.129          -0.040      -0.230     -0.022     -0.096\n",
      "...             ...             ...         ...        ...        ...\n",
      "1896          0.442           0.023      -0.450     -0.058     -0.259\n",
      "1897          0.447          -0.003      -0.425     -0.058     -0.261\n",
      "1898          0.450          -0.012      -0.300     -0.059     -0.262\n",
      "1899          0.452          -0.017      -0.125     -0.059     -0.264\n",
      "1900          0.456          -0.028      -0.050     -0.060     -0.266\n",
      "\n",
      "[101 rows x 5 columns]\n"
     ]
    }
   ],
   "source": [
    "df1800_1900 = df.loc[1800:1900] # for år 1800-1900\n",
    "df1900_2000 = df.loc[1900:2000] # for år 1900-2000\n",
    "\n",
    "print(df1800_1900)\n"
   ]
  },
  {
   "cell_type": "markdown",
   "metadata": {},
   "source": [
    "## Øvelse\n",
    "\n",
    "Vi kan nu beregne middelsværdier for hver enkel strålingspådriv over perioden 1800-1900 og 1900-2000. Svar dernæst på følgende: \n",
    "\n",
    "1. Hvilken pådriv har været dominerende i perioden **før** den industrielle revolution (år 1800-1900)\n",
    "2. Ser du en endring i hvilket pådriv som har været dominerende i perioden **efter** den industrielle revolution (år 1900-2000)\n",
    "3. Hva er det totale (sum) strålingspådriv for de to perioder? \n"
   ]
  },
  {
   "cell_type": "code",
   "execution_count": 57,
   "metadata": {},
   "outputs": [
    {
     "name": "stdout",
     "output_type": "stream",
     "text": [
      "middelsværdier over perioden 1800-1900:\n",
      " drivhusgasser     0.227099\n",
      "solinnstråling   -0.019307\n",
      "vulkanisme       -0.601386\n",
      "arealbruk        -0.039505\n",
      "aerosoler        -0.177970\n",
      "dtype: float64\n",
      "middelsværdier over perioden 1900-2000:\n",
      " drivhusgasser     1.138624\n",
      "solinnstråling    0.046386\n",
      "vulkanisme       -0.317574\n",
      "arealbruk        -0.103980\n",
      "aerosoler        -0.515812\n",
      "dtype: float64\n",
      "Total pådriv over perioden 1800-1900:\n",
      " -0.6110693069306928\n",
      "Total pådriv over perioden 1900-2000:\n",
      " 0.2476435643564363\n"
     ]
    }
   ],
   "source": [
    "df1800_1900_mean = df1800_1900.mean()\n",
    "df1900_2000_mean = df1900_2000.mean()\n",
    "\n",
    "print(\"middelsværdier over perioden 1800-1900:\\n\", df1800_1900_mean)\n",
    "print(\"middelsværdier over perioden 1900-2000:\\n\", df1900_2000_mean)\n",
    "\n",
    "print(\"Total pådriv over perioden 1800-1900:\\n\", df1800_1900_mean.sum())\n",
    "\n",
    "print(\"Total pådriv over perioden 1900-2000:\\n\", df1900_2000_mean.sum())\n"
   ]
  },
  {
   "cell_type": "markdown",
   "metadata": {},
   "source": [
    "# Eksempel på bar plot\n",
    "\n",
    "Vi kan visualisere disse data med et barplot\n"
   ]
  },
  {
   "cell_type": "code",
   "execution_count": 54,
   "metadata": {},
   "outputs": [
    {
     "data": {
      "text/plain": [
       "<matplotlib.axes._subplots.AxesSubplot at 0x7f60e1b32be0>"
      ]
     },
     "execution_count": 54,
     "metadata": {},
     "output_type": "execute_result"
    },
    {
     "data": {
      "image/png": "[encoded data removed]",
      "text/plain": [
       "<Figure size 432x288 with 1 Axes>"
      ]
     },
     "metadata": {
      "needs_background": "light"
     },
     "output_type": "display_data"
    }
   ],
   "source": [
    "# definér ny dataframe mead værdiene fra 'df1800_1900_mean' og 'df1900_2000_mean'\n",
    "plotdata = pd.DataFrame({\n",
    "    \"1800-1900\":df1800_1900_mean,\n",
    "    \"1900-2000\":df1900_2000_mean,\n",
    "    }, \n",
    ")\n",
    "\n",
    "plotdata.plot(kind=\"bar\") # lage bar plot\n"
   ]
  }
 ],
 "metadata": {
  "kernelspec": {
   "display_name": "Python 3",
   "language": "python",
   "name": "python3"
  },
  "language_info": {
   "codemirror_mode": {
    "name": "ipython",
    "version": 3
   },
   "file_extension": ".py",
   "mimetype": "text/x-python",
   "name": "python",
   "nbconvert_exporter": "python",
   "pygments_lexer": "ipython3",
   "version": "3.8.3"
  }
 },
 "nbformat": 4,
 "nbformat_minor": 4
}
