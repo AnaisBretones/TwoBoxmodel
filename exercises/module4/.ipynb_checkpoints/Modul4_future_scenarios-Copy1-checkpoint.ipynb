{
 "cells": [
  {
   "cell_type": "markdown",
   "id": "075bffd7",
   "metadata": {},
   "source": [
    "# Module 4 - Fremtids scenarier (feat ToboxModel)\n",
    "\n",
    "In this week's exercises we are looking into the future - simulating the temperature evolution into year 2100 using the 2boxmodel. \n",
    "\n",
    "The future projections are based on four different emission scenarios: RCP2.6 (low emmision), RCP4.5 (Intermediate emissions), RCP6 (Intermediate emissions) and RCP8.5 (high emissions). These are used in the previous IPCC report (AR5 2013). You can read more about the Representative Concentration Pathways (RCPs) here: https://skepticalscience.com/rcp.php  \n",
    "\n",
    "In this exercise, we will focus on the RCP2.6 (optimitic) and RCP8.5 (pesimistic) scenarios. \n",
    "\n",
    "<img src=\"Bilder/RCPs.png\" style=\"width:50%\">\n"
   ]
  },
  {
   "cell_type": "code",
   "execution_count": 1,
   "id": "cf6e95a4",
   "metadata": {},
   "outputs": [],
   "source": [
    "# Lese inn relavente python pakker vi ska bruke\n",
    "import pandas as pd\n",
    "import matplotlib.pyplot as plt\n",
    "#%matplotlib notebook # inkluder denne linjen om du vil åpne i Jupyter Notebook og vil lage interaktive plott\n",
    "%matplotlib inline\n",
    "\n",
    "from toboks import calculate_temp_anomalies # henter funksjonen som beregner temperaturanomalier basert på toboksmodellen"
   ]
  },
  {
   "cell_type": "markdown",
   "id": "6a7d94b2",
   "metadata": {},
   "source": [
    "The future data is stored in the \"futureForcing.csv\" file. As in the previous exercises we load this into a DataFrame (df). This DataFrame contains the radiative forcing associated with four RCP scenarios. \n",
    "As you can see if you print the dataframe each scenario contains a total radiative forcing, and is not separated into contributions from greenhouse gases, solar radiations, volcanic activity, agriculture and aerosols. \n",
    "The forcing runs from year 1750 to 2100, i.e. also covering the historical period, which we have looked at so far.  "
   ]
  },
  {
   "cell_type": "code",
   "execution_count": 2,
   "id": "72c7ac40",
   "metadata": {},
   "outputs": [
    {
     "name": "stdout",
     "output_type": "stream",
     "text": [
      "Radiative forcing in W/m2 \n",
      " \n",
      "         RCP2.6  RCP4.5  RCP6.0  RCP8.5\n",
      "year                                  \n",
      "1751.0  -0.021  -0.021  -0.021  -0.021\n",
      "1752.0  -0.023  -0.023  -0.023  -0.023\n",
      "1753.0  -0.023  -0.023  -0.023  -0.023\n",
      "1754.0  -0.026  -0.026  -0.026  -0.026\n",
      "1755.0  -0.027  -0.027  -0.027  -0.027\n",
      "...        ...     ...     ...     ...\n",
      "2086.0   2.424   3.752   4.492   6.802\n",
      "2087.0   2.428   3.759   4.529   6.884\n",
      "2088.0   2.432   3.766   4.566   6.966\n",
      "2089.0   2.436   3.773   4.603   7.048\n",
      "2090.0   2.440   3.780   4.640   7.130\n",
      "\n",
      "[340 rows x 4 columns]\n"
     ]
    }
   ],
   "source": [
    "# les inn historisk data fra filen 'historical.csv'\n",
    "df=pd.read_csv('futureForcing.csv',index_col = 0,sep=',',encoding = \"utf-8\")\n",
    "\n",
    "print('Radiative forcing in W/m2 \\n \\n', df)"
   ]
  },
  {
   "cell_type": "markdown",
   "id": "dd67473c",
   "metadata": {},
   "source": [
    "## Future projections with the 2box model \n",
    "\n",
    "Create two experiments:\n",
    "\n",
    "* Run#1:'RCP2.6', use the radiative forcing from RCP2.6\n",
    "\n",
    "* Run#2:'RCP8.5', use the radiative forcing from RCP8.5\n",
    "\n",
    "\n",
    "Below we compute the temperature change resulting from all the listed radiative forcings: greenhouse gases, solar activity, volcanic activity, agricultur, and aerosols. For the other parameters, we use the same values than in module 2 (ie, a mean of the values used by validated earth system models). The temperature change is saved in the DataFrame under the index \"Ts_RCP2.6\". By saving later experiment the same way, it will be easy to compare them.\n",
    "\n",
    "To create a new experiment, copy and paste the cell below. Change the parameters that need to be changed and/or the forcing (total_forcing = df['RCP2.6']) and change the DataFrame index accordingly ('Ts_RCP2.6')."
   ]
  },
  {
   "cell_type": "code",
   "execution_count": 3,
   "id": "22bebf85",
   "metadata": {},
   "outputs": [
    {
     "data": {
      "image/png": "[encoded data removed]",
      "text/plain": [
       "<Figure size 432x288 with 1 Axes>"
      ]
     },
     "metadata": {
      "needs_background": "light"
     },
     "output_type": "display_data"
    }
   ],
   "source": [
    "#/RCP2.6//////////////////////////////////////////////////////////////////////////////////////////////////////////////\n",
    "                                                                                                                    #//\n",
    "# Radiative forcing                                                                                                 #//\n",
    "total_forcing = df['RCP2.6']                                                                                        #//\n",
    "                                                                                                                    #//\n",
    "# feedback parameters                                                                                               #//\n",
    "lambda_planck=-3.1     # Stefan Boltzmann's 'feedback' [Wm-2K-1] best guesses  [-3.3 to -3.1]                       #//\n",
    "lambda_lapse=-0.6      # Lapse rate feedback [Wm-2K-1] best guesses [-1.2 to -0.5]                                  #//\n",
    "lambda_water=1.7       # water vapor feedback [Wm-2K-1] best guesses [1.5 to 2.2]                                   #//\n",
    "lambda_cloud=0.50      # Clouds feedback [Wm-2K-1] best guesses [0.1 to 1.2]                                        #//\n",
    "lambda_albedo=0.40     # Surface albedo feedback [Wm-2K-1] best guesses [0.1 to 0.4]                                #//\n",
    "lambda_other=0.0       # Other feedbacks [Wm-2K-1]                                                                  #//\n",
    "                                                                                                                    #//\n",
    "lambda_sum=sum([lambda_planck,                                                                                      #//\n",
    "    lambda_lapse,                                                                                                   #//\n",
    "    lambda_water,                                                                                                   #//\n",
    "    lambda_cloud,                                                                                                   #//\n",
    "    lambda_albedo,                                                                                                  #//\n",
    "    lambda_other])                                                                                                  #//\n",
    "                                                                                                                    #//\n",
    "# Deep ocean heat uptake efficency [Wm-2K-1]                                                                        #//                                                                                                   #//\n",
    "gamma=-0.69  # best guesses [-1 to -0.5]                                                                            #//\n",
    "                                                                                                                    #//\n",
    "# konverter dataframe til data-array                                                                                #//\n",
    "radiative_forcing = total_forcing.to_numpy()                                                                        #//     \n",
    "                                                                                                                    #//\n",
    "# kaller opp funksjonen som regner ut temperaturendringene                                                          #//\n",
    "df['Ts_RCP2.6'], To = calculate_temp_anomalies(radiative_forcing, lambda_sum, gamma)                                #//\n",
    "                                                                                                                    #//\n",
    "df['Ts_RCP2.6'].plot(ylabel=\"$\\Delta T$  $[^oC]$\", title=\"Temperaturendringer\", label = 'RCP2.6')                   #//\n",
    "plt.axhline(y=0, linewidth=0.7, color=\"black\")                                                                      #//\n",
    "plt.grid(alpha=0.4, ls='--')                                                                                        #//\n",
    "plt.legend()                                                                                                        #//\n",
    "                                                                                                                    #//\n",
    "# deleting variables that will be re-used. Not necessary but it can help to avoid mistakes                          #//\n",
    "del total_forcing                                                                                                   #//\n",
    "del lambda_planck, lambda_lapse, lambda_water, lambda_cloud, lambda_albedo, lambda_other, lambda_sum, gamma         #//\n",
    "                                                                                                                    #//\n",
    "# /////////////////////////////////////////////////////////////////////////////////////////////////////////////////////"
   ]
  },
  {
   "cell_type": "code",
   "execution_count": 4,
   "id": "3dc2c613",
   "metadata": {},
   "outputs": [],
   "source": [
    "#/RCP8.5//////////////////////////////////////////////////////////////////////////////////////////////////////////////   "
   ]
  },
  {
   "cell_type": "markdown",
   "id": "35297fa6",
   "metadata": {},
   "source": [
    "\n",
    "<u>Reminder:</u> \n",
    "\n",
    "You can select a time period year1:year2 in a DataFrame by typing **DataFrameName['variable_name'].loc[year1:year2]**\n",
    "\n",
    "You can compute the mean of the variable for that time period by doing **DataFrameName['variable_name'].loc[year1:year2].mean**\n",
    "\n",
    "**NewObject = DataFrameName['VariableName']+some operations** will create a new DataFrame \n",
    "\n",
    "while  **DataFrameName['VariableName2']=DataFrameName['VariableName']+some  operations** adds one variable/column (with index VariableName2) to the preexisting DataFrame ."
   ]
  },
  {
   "cell_type": "code",
   "execution_count": 8,
   "id": "ea2b42c9",
   "metadata": {},
   "outputs": [
    {
     "data": {
      "text/plain": [
       "<matplotlib.lines.Line2D at 0x7f7314ca77c0>"
      ]
     },
     "execution_count": 8,
     "metadata": {},
     "output_type": "execute_result"
    },
    {
     "data": {
      "image/png": "[encoded data removed]",
      "text/plain": [
       "<Figure size 432x288 with 1 Axes>"
      ]
     },
     "metadata": {
      "needs_background": "light"
     },
     "output_type": "display_data"
    }
   ],
   "source": [
    "# the temperature anomalies with respect to one time period is done below in one line:\n",
    "Tanom =  df['Ts_RCP2.6']- df['Ts_RCP2.6'].loc[1986:2005].mean() # temp. anomaly\n",
    "# make plot\n",
    "Tanom.plot()\n",
    "plt.axhline(y=0, linewidth=0.7, color=\"black\", ls='--')"
   ]
  },
  {
   "cell_type": "code",
   "execution_count": 10,
   "id": "5eed35cd",
   "metadata": {},
   "outputs": [
    {
     "name": "stdout",
     "output_type": "stream",
     "text": [
      "Temperature change at year 2090 : 1.04 °C\n"
     ]
    }
   ],
   "source": [
    "# selecting the temperature change at one specific year\n",
    "# below we use the temperature anomalies with respect to 1986-2005\n",
    "year = 2090\n",
    "Tloc = Tanom.loc[year]\n",
    "print('Temperature change at year', year, ':', \"%.2f\" %(Tloc),'°C')"
   ]
  },
  {
   "cell_type": "markdown",
   "id": "00ddda1e",
   "metadata": {},
   "source": [
    "## Questions\n",
    "\n",
    "### 1 - Investigate the temperature change into the future\n",
    "\n",
    "* Plot the radiative forcing for RCP2.6 and RCP8.5 (in the same plot). Repeat for the temperature change (Ts). \n",
    "\n",
    "* Calculate the change in surface temperature relative to year 1986-2005 (same as used by IPCC AR5)\n",
    "\n",
    "* What is the radiative forcing and temperature change in year 2090 for RCP2.6 and RCP8.5, respectively?\n",
    "\n",
    "* How does the results from the simple 2box model compare to projection from coupled climate models (see figure below)\n",
    "\n",
    "<img src=\"Bilder/AR5-temp-change-to-2100.png\" style=\"width:50%\" >\n",
    "\n",
    "* Discuss the main uncertainties associated with our climate model projections \n",
    "\n",
    "### 2 - Investigate the role of the ocean for the temperature evolution\n",
    "\n",
    "* How does switching the ocean heat uptake on/off impact the modeled temperature response?\n",
    "\n",
    "* What determines the strength of the ocean heat uptake in the 2box model? \n",
    "    * HINT: look at equations 1+2 in Modul2_Intro2BoxModel.ipynb\n",
    "    \n",
    "    \n",
    "### 3 - Make our own \"multi-model\" ensemble \n",
    "\n",
    "A model-ensemble describes a collection of models typically performing the same set of experiments, i.e. like the CMIP5 climate models shown in the first figure. Although we only have one model (2boxmodel), we can still mimic this by choosing different values for the feedback parameters and running the RCP2.6 and RCP8.5 experiments again. \n",
    "\n",
    "In the runs above we used the mean values for the feedback parameters from the table below. Now, perform two additional runs (repeat for both RCP2.6 and RCP8.5):\n",
    "\n",
    "* Run#3&5 - picking the *minimum* values for the feedback parameters (see table)\n",
    "* Run#4&6 - picking the *maximum* values for the feedback parameters (see table)\n",
    "\n",
    "<img src=\"Bilder/table_lambda_values.png\" style=\"width:50%\" >"
   ]
  },
  {
   "cell_type": "code",
   "execution_count": 13,
   "id": "9dc8d7b5",
   "metadata": {},
   "outputs": [],
   "source": [
    "#/RCP2.6_min/max////////////////////////////////////////////////////////////////////////////////////////////////////////\n",
    "                                                                                                                    #//\n",
    "# Radiative forcing                                                                                                 #//\n",
    "total_forcing = df['RCP2.6']                                                                                        #//\n",
    "                                                                                                                    #//\n",
    "# feedback parameters MIN                                                                                           #//\n",
    "lambda_planck=0     # Stefan Boltzmann's 'feedback' [Wm-2K-1] best guesses  [-3.3 to -3.1]                          #//\n",
    "lambda_lapse=0      # Lapse rate feedback [Wm-2K-1] best guesses [-1.2 to -0.5]                                     #//\n",
    "lambda_water=0       # water vapor feedback [Wm-2K-1] best guesses [1.5 to 2.2]                                     #//\n",
    "lambda_cloud=0      # Clouds feedback [Wm-2K-1] best guesses [0.1 to 1.2]                                           #//\n",
    "lambda_albedo=0     # Surface albedo feedback [Wm-2K-1] best guesses [0.1 to 0.4]                                   #//\n",
    "lambda_other=0       # Other feedbacks [Wm-2K-1]                                                                    #//\n",
    "                                                                                                                    #//\n",
    "lambda_sum=sum([lambda_planck,                                                                                      #//\n",
    "    lambda_lapse,                                                                                                   #//\n",
    "    lambda_water,                                                                                                   #//\n",
    "    lambda_cloud,                                                                                                   #//\n",
    "    lambda_albedo,                                                                                                  #//\n",
    "    lambda_other])                                                                                                  #//\n",
    "                                                                                                                    #//\n",
    "# Deep ocean heat uptake efficency [Wm-2K-1]                                                                        #//                                                                                                   #//\n",
    "gamma=-0.69  # best guesses [-1 to -0.5]                                                                            #//\n",
    "                                                                                                                    #//\n",
    "# konverter dataframe til data-array                                                                                #//\n",
    "radiative_forcing = total_forcing.to_numpy()                                                                        #//     \n",
    "                                                                                                                    #//\n",
    "# kaller opp funksjonen som regner ut temperaturendringene                                                          #//\n",
    "df['Ts_RCP2.6_min'], To = calculate_temp_anomalies(radiative_forcing, lambda_sum, gamma)                            #//\n",
    "                                                                                                                    #//\n",
    "del lambda_planck, lambda_lapse, lambda_water, lambda_cloud, lambda_albedo, lambda_other, lambda_sum                #//\n",
    "# - - - - - - - - - - - - - - - - - - - - - - - - - - - - - - - - - - - - - - - - - - - - - - - - - - - - - - - - - - -\n",
    "                                                                                                                    #//\n",
    "# feedback parameters MAX                                                                                           #//\n",
    "lambda_planck=0     # Stefan Boltzmann's 'feedback' [Wm-2K-1] best guesses  [-3.3 to -3.1]                          #//\n",
    "lambda_lapse=0      # Lapse rate feedback [Wm-2K-1] best guesses [-1.2 to -0.5]                                     #//\n",
    "lambda_water=0       # water vapor feedback [Wm-2K-1] best guesses [1.5 to 2.2]                                     #//\n",
    "lambda_cloud=0       # Clouds feedback [Wm-2K-1] best guesses [0.1 to 1.2]                                          #//\n",
    "lambda_albedo=0     # Surface albedo feedback [Wm-2K-1] best guesses [0.1 to 0.4]                                   #//\n",
    "lambda_other=0       # Other feedbacks [Wm-2K-1]                                                                    #//\n",
    "                                                                                                                    #//\n",
    "lambda_sum=sum([lambda_planck,                                                                                      #//\n",
    "    lambda_lapse,                                                                                                   #//\n",
    "    lambda_water,                                                                                                   #//\n",
    "    lambda_cloud,                                                                                                   #//\n",
    "    lambda_albedo,                                                                                                  #//\n",
    "    lambda_other])                                                                                                  #//\n",
    "                                                                                                                    #//\n",
    "# kaller opp funksjonen som regner ut temperaturendringene                                                          #//\n",
    "df['Ts_RCP2.6_max'], To = calculate_temp_anomalies(radiative_forcing, lambda_sum, gamma)                            #//\n",
    "                                                                                                                    #//\n",
    "# deleting variables that will be re-used. Not necessary but it can help to avoid mistakes                          #//\n",
    "del total_forcing                                                                                                   #//\n",
    "del lambda_planck, lambda_lapse, lambda_water, lambda_cloud, lambda_albedo, lambda_other, lambda_sum, gamma         #//\n",
    "                                                                                                                    #//\n",
    "# /////////////////////////////////////////////////////////////////////////////////////////////////////////////////////"
   ]
  },
  {
   "cell_type": "code",
   "execution_count": 2,
   "id": "a3daaaf1-e4be-4b42-b91b-69a850aa15e5",
   "metadata": {},
   "outputs": [],
   "source": [
    "#/RCP8.5_min/max////////////////////////////////////////////////////////////////////////////////////////////////////////"
   ]
  },
  {
   "cell_type": "markdown",
   "id": "17962b6b-468b-4912-85ce-6c9751dd1ba1",
   "metadata": {},
   "source": [
    "You can use the cell above '#/RCP2.6_min/max' to compute the minimum/maximum temperature projection by changing the lambda parameters accordingly. Then copy paste the cell and repeat with the RCP8.5 scenario. You can then use the code below to plot the result.\n",
    "\n",
    "Question: comment? compare with the coupled climate models range?"
   ]
  },
  {
   "cell_type": "code",
   "execution_count": 35,
   "id": "fb63018c",
   "metadata": {},
   "outputs": [
    {
     "data": {
      "text/plain": [
       "<matplotlib.legend.Legend at 0x7f7314461310>"
      ]
     },
     "execution_count": 35,
     "metadata": {},
     "output_type": "execute_result"
    },
    {
     "data": {
      "image/png": "[encoded data removed]",
      "text/plain": [
       "<Figure size 432x288 with 1 Axes>"
      ]
     },
     "metadata": {
      "needs_background": "light"
     },
     "output_type": "display_data"
    }
   ],
   "source": [
    "### plot the surface temperature change for the three runs for RCP2.6 and RCP8.5\n",
    "\n",
    "#df['Ts_RCP2.6'].plot(ylabel=\"$\\Delta T$  $[^oC]$\") # using the mean values for lambda\n",
    "#plt.fill_between(df.index,df['Ts_RCP2.6_min'],df['Ts_RCP2.6_max'], color='gray',alpha=0.2,label='RCP2.6')\n",
    "\n",
    "#df['Ts_RCP8.5'].plot(color='red',ylabel=\"$\\Delta T$  $[^oC]$\") # using the mean values for lambda\n",
    "#plt.fill_between(df.index,df['Ts_RCP8.5_min'],df['Ts_RCP8.5_max'], color='orange',alpha=0.2,label='RCP8.5')\n",
    "#plt.legend(loc='upper left')"
   ]
  },
  {
   "cell_type": "code",
   "execution_count": null,
   "id": "31948e02-80b3-4508-87f7-844779fb39c2",
   "metadata": {},
   "outputs": [],
   "source": []
  }
 ],
 "metadata": {
  "kernelspec": {
   "display_name": "Python 3 (ipykernel)",
   "language": "python",
   "name": "python3"
  },
  "language_info": {
   "codemirror_mode": {
    "name": "ipython",
    "version": 3
   },
   "file_extension": ".py",
   "mimetype": "text/x-python",
   "name": "python",
   "nbconvert_exporter": "python",
   "pygments_lexer": "ipython3",
   "version": "3.9.6"
  },
  "toc-showcode": false
 },
 "nbformat": 4,
 "nbformat_minor": 5
}
