{
 "cells": [
  {
   "cell_type": "markdown",
   "metadata": {},
   "source": [
    "# Module 4 - Fremtids scenarier (feat ToboxModel)\n",
    "\n",
    "In this week's exercises we are looking into the future - simulating the temperature evolution into year 2100 using the 2boxmodel. \n",
    "\n",
    "The future projections are based on four different emission scenarios: RCP2.6 (low emmision), RCP4.5 (Intermediate emissions), RCP6 (Intermediate emissions) and RCP8.5 (high emissions). These are used in the previous IPCC report (AR5 2013). You can read more about the Representative Concentration Pathways (RCPs) here: https://skepticalscience.com/rcp.php  \n",
    "\n",
    "In this exercise, we will focus on the RCP2.6 (optimitic) and RCP8.5 (pesimistic) scenarios. \n",
    "\n",
    "<img src=\"Bilder/RCPs.png\" style=\"width:50%\">\n"
   ]
  },
  {
   "cell_type": "code",
   "execution_count": 25,
   "metadata": {},
   "outputs": [],
   "source": [
    "# Lese inn relavente python pakker vi ska bruke\n",
    "import pandas as pd\n",
    "import matplotlib.pyplot as plt\n",
    "#%matplotlib notebook # inkluder denne linjen om du vil åpne i Jupyter Notebook og vil lage interaktive plott\n",
    "\n",
    "from toboks import calculate_temp_anomalies # henter funksjonen som beregner temperaturanomalier basert på toboksmodellen"
   ]
  },
  {
   "cell_type": "markdown",
   "metadata": {},
   "source": [
    "The future data is stored in the \"futureForcing.csv\" file. As in the previous exercises we load this into a DataFrame (df). This DataFrame contains the radiative forcing associated with four RCP scenarios. \n",
    "As you can see if you print the dataframe each scenario contains a total radiative forcing, and is not separated into contributions from greenhouse gases, solar radiations, volcanic activity, agriculture and aerosols. \n",
    "The forcing runs from year 1750 to 2100, i.e. also covering the historical period, which we have looked at so far.  "
   ]
  },
  {
   "cell_type": "code",
   "execution_count": 3,
   "metadata": {},
   "outputs": [
    {
     "name": "stdout",
     "output_type": "stream",
     "text": [
      "Radiative forcing in W/m2 \n",
      " \n",
      "         RCP2.6  RCP4.5  RCP6.0  RCP8.5\n",
      "year                                  \n",
      "1751.0  -0.021  -0.021  -0.021  -0.021\n",
      "1752.0  -0.023  -0.023  -0.023  -0.023\n",
      "1753.0  -0.023  -0.023  -0.023  -0.023\n",
      "1754.0  -0.026  -0.026  -0.026  -0.026\n",
      "1755.0  -0.027  -0.027  -0.027  -0.027\n",
      "...        ...     ...     ...     ...\n",
      "2086.0   2.424   3.752   4.492   6.802\n",
      "2087.0   2.428   3.759   4.529   6.884\n",
      "2088.0   2.432   3.766   4.566   6.966\n",
      "2089.0   2.436   3.773   4.603   7.048\n",
      "2090.0   2.440   3.780   4.640   7.130\n",
      "\n",
      "[340 rows x 4 columns]\n"
     ]
    }
   ],
   "source": [
    "# les inn historisk data fra filen 'historical.csv'\n",
    "df=pd.read_csv('futureForcing.csv',index_col = 0,sep=',',encoding = \"utf-8\")\n",
    "\n",
    "print('Radiative forcing in W/m2 \\n \\n', df)"
   ]
  },
  {
   "cell_type": "markdown",
   "metadata": {},
   "source": [
    "## Future projections with the 2box model \n",
    "\n",
    "Create two experiments:\n",
    "\n",
    "* Run#1:'RCP2.6', use the radiative forcing from RCP2.6\n",
    "\n",
    "* Run#2:'RCP8.5', use the radiative forcing from RCP8.5\n",
    "\n",
    "\n",
    "Below we compute the temperature change resulting from all the listed radiative forcings: greenhouse gases, solar activity, volcanic activity, agricultur, and aerosols. For the other parameters, we use the same values than in module 2 (ie, a mean of the values used by validated earth system models). We'll call this first experiment our \"control run\". The temperature change is then saved in the DataFrame under the index \"control\". By saving later experiment the same way, it will be easy to compare them later.\n",
    "\n",
    "To create a new experiment, copy and paste the cell below. Change the parameters that need to be changed, and remember to change the index \"control\"."
   ]
  },
  {
   "cell_type": "code",
   "execution_count": 21,
   "metadata": {},
   "outputs": [
    {
     "data": {
      "image/png": "[encoded data removed]",
      "text/plain": [
       "<Figure size 432x288 with 1 Axes>"
      ]
     },
     "metadata": {
      "needs_background": "light"
     },
     "output_type": "display_data"
    }
   ],
   "source": [
    "#/RCP2.6//////////////////////////////////////////////////////////////////////////////////////////////////////////////\n",
    "                                                                                                                    #//\n",
    "# Radiative forcing                                                                                       #//\n",
    "total_forcing = df['RCP2.6']                                                                                                 #//\n",
    "                                                                                                                    #//\n",
    "# feedback parameters                                                                                                        #//\n",
    "lambda_planck=-3.1     # Stefan Boltzmann's 'feedback' [Wm-2K-1] best guesses  [-3.3 to -3.1]                       #//\n",
    "lambda_lapse=-0.6      # Lapse rate feedback [Wm-2K-1] best guesses [-1.2 to -0.5]                                  #//\n",
    "lambda_water=1.7       # water vapor feedback [Wm-2K-1] best guesses [1.5 to 2.2]                                   #//\n",
    "lambda_cloud=0.50      # Clouds feedback [Wm-2K-1] best guesses [0.1 to 1.2]                                        #//\n",
    "lambda_albedo=0.40     # Surface albedo feedback [Wm-2K-1] best guesses [0.1 to 0.4]                                #//\n",
    "lambda_other=0.0       # Other feedbacks [Wm-2K-1]                                                                  #//\n",
    "                                                                                                                    #//\n",
    "lambda_sum=sum([lambda_planck,                                                                                      #//\n",
    "    lambda_lapse,                                                                                                   #//\n",
    "    lambda_water,                                                                                                   #//\n",
    "    lambda_cloud,                                                                                                   #//\n",
    "    lambda_albedo,                                                                                                  #//\n",
    "    lambda_other])                                                                                                  #//\n",
    "                                                                                                                    #//\n",
    "# Deep ocean heat uptake efficency [Wm-2K-1]                                                                        #//                                                                                                   #//\n",
    "gamma=-0.69  # best guesses [-1 to -0.5]                                                                            #//\n",
    "                                                                                                                    #//\n",
    "# konverter dataframe til data-array                                                                                #//\n",
    "radiative_forcing = total_forcing.to_numpy()                                                                        #//     \n",
    "                                                                                                                    #//\n",
    "# kaller opp funksjonen som regner ut temperaturendringene                                                          #//\n",
    "df['Ts_RCP2.6'], To = calculate_temp_anomalies(radiative_forcing, lambda_sum, gamma)                                  #//\n",
    "                                                                                                                    #//\n",
    "df['Ts_RCP2.6'].plot(ylabel=\"$\\Delta T$  $[^oC]$\", title=\"Temperaturendringer\", label = 'RCP2.6')                                       #//\n",
    "plt.axhline(y=0, linewidth=0.7, color=\"black\")                                                                      #//\n",
    "plt.grid(alpha=0.4, ls='--') \n",
    "plt.legend() \n",
    "\n",
    "# deleting variables that will be re-used. Not necessary but it can help to avoid mistakes                          #//\n",
    "del total_forcing                                                                                                   #//\n",
    "del lambda_planck, lambda_lapse, lambda_water, lambda_cloud, lambda_albedo, lambda_other, lambda_sum, gamma         #//\n",
    "                                                                                                                    #//\n",
    "# /////////////////////////////////////////////////////////////////////////////////////////////////////////////////////"
   ]
  },
  {
   "cell_type": "code",
   "execution_count": null,
   "metadata": {},
   "outputs": [],
   "source": [
    "#/RCP8.5//////////////////////////////////////////////////////////////////////////////////////////////////////////////   "
   ]
  },
  {
   "cell_type": "markdown",
   "metadata": {},
   "source": [
    "With no suprise (since we used the same parameters), we obtain the same temperature change than in modul2. As in modul2, we can evaluate the temperature anomalies with respect to the reference time period 1850-1900 and select the temperature change at a specific year.\n",
    "\n",
    "<u>Reminder:</u> \n",
    "\n",
    "You can select a time period year1:year2 in a DataFrame by typing **DataFrameName['variable_name'].loc[year1:year2]**\n",
    "\n",
    "You can compute the mean of the variable for that time period by doing **DataFrameName['variable_name'].loc[year1:year2].mean**\n",
    "\n",
    "**NewObject = DataFrameName['VariableName']+some operations** will create a new DataFrame \n",
    "\n",
    "while  **DataFrameName['VariableName2']=DataFrameName['VariableName']+some  operations** adds one variable/column (with index VariableName2) to the preexisting DataFrame ."
   ]
  },
  {
   "cell_type": "code",
   "execution_count": 22,
   "metadata": {},
   "outputs": [
    {
     "data": {
      "text/plain": [
       "<matplotlib.lines.Line2D at 0x7f4ad5ca6c10>"
      ]
     },
     "execution_count": 22,
     "metadata": {},
     "output_type": "execute_result"
    },
    {
     "data": {
      "image/png": "[encoded data removed]",
      "text/plain": [
       "<Figure size 432x288 with 1 Axes>"
      ]
     },
     "metadata": {
      "needs_background": "light"
     },
     "output_type": "display_data"
    }
   ],
   "source": [
    "# the temperature anomalies with respect to one time period is done below in one line:\n",
    "Tanom =  df['Ts_RCP2.6']- df['Ts_RCP2.6'].loc[1986:2005].mean() # temp. anomaly\n",
    "# make plot\n",
    "Tanom.plot()\n",
    "plt.axhline(y=0, linewidth=0.7, color=\"black\", ls='--')"
   ]
  },
  {
   "cell_type": "code",
   "execution_count": 26,
   "metadata": {},
   "outputs": [
    {
     "name": "stdout",
     "output_type": "stream",
     "text": [
      "Temperature change at year 2090 : 0.53 °C\n"
     ]
    }
   ],
   "source": [
    "# selecting the temperature change at one specific year\n",
    "# below we use the temperature anomalies with respect to 1850-1900\n",
    "year = 2090\n",
    "Tloc = Tanom.loc[year]\n",
    "print('Temperature change at year', year, ':', \"%.2f\" %(Tloc),'°C')"
   ]
  },
  {
   "cell_type": "markdown",
   "metadata": {},
   "source": [
    "## Questions\n",
    "\n",
    "### 1 - Investigate the temperature change into the future\n",
    "\n",
    "* Plot the radiative forcing for RCP2.6 and RCP8.5 (in the same plot). Repeat for the temperature change (Ts). \n",
    "\n",
    "* Calculate the change in surface temperature relative to year 1986-2005 (same as used by IPCC AR5)\n",
    "\n",
    "* What is the radiative forcing and temperature change in year 2090 for RCP2.6 and RCP8.5, respectively?\n",
    "\n",
    "* How does the results from the simple 2box model compare to projection from coupled climate models (see figure below)\n",
    "\n",
    "<img src=\"Bilder/AR5-temp-change-to-2100.png\" style=\"width:50%\" >\n",
    "\n",
    "* Discuss the main uncertainties associated with our climate model projections \n",
    "\n",
    "### 2 - Investigate the role of the ocean for the temperature evolution\n",
    "\n",
    "* How does switching the ocean heat uptake on/off impact the modeled temperature response?\n",
    "\n",
    "* What determines the strength of the ocean heat uptake in the 2box model? \n",
    "    * HINT: look at eq. 1, Module 1\n"
   ]
  },
  {
   "cell_type": "code",
   "execution_count": null,
   "metadata": {},
   "outputs": [],
   "source": [
    "# Ploting the 2 experiments temperature change: (remove the #s)\n",
    "\n",
    "#df['control'].plot(ylabel=\"$\\Delta T$  $[^oC]$\", title=\"Temperaturendringer\")  \n",
    "#df['NoHumanActivity'].plot(ylabel=\"$\\Delta T$  $[^oC]$\", title=\"Temperaturendringer\") \n",
    "#df['NoVolcanoes'].plot(ylabel=\"$\\Delta T$  $[^oC]$\", title=\"Temperaturendringer\")  \n",
    "#plt.legend()"
   ]
  }
 ],
 "metadata": {
  "kernelspec": {
   "display_name": "Python 3",
   "language": "python",
   "name": "python3"
  },
  "language_info": {
   "codemirror_mode": {
    "name": "ipython",
    "version": 3
   },
   "file_extension": ".py",
   "mimetype": "text/x-python",
   "name": "python",
   "nbconvert_exporter": "python",
   "pygments_lexer": "ipython3",
   "version": "3.8.3"
  }
 },
 "nbformat": 4,
 "nbformat_minor": 5
}
