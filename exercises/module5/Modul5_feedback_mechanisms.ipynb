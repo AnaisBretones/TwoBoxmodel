{
 "cells": [
  {
   "cell_type": "markdown",
   "metadata": {},
   "source": [
    "# Module 5 - Climate feedbacks\n",
    "\n",
    "In this week's exercises we are looking at climate feedbacks. \n",
    "\n",
    "We will use the 2BoxModel to investigate the impact of turning on/off different climate feedbacks. These feedbacks are taken into account in the model via the $\\lambda$ parameter and includes: \n",
    "* Lapse rate feedback \n",
    "* water vapor feedback \n",
    "* Clouds feedback \n",
    "* Surface albedo feedback\n",
    "\n",
    "Note that the *Stefan Boltzmann's 'feedback'* is not included here, since this is not a true feedback mechanism, but rather a direct response to an increase in radiative forcing (see the `ClimateSensitivity.pdf` compendium).   \n",
    "\n",
    "As in the previous exercise we will use the future forcing scenario RCP8.5 and calculate the temperature change into the future and its sensitivity to the various climate feedbacks listed above.     "
   ]
  },
  {
   "cell_type": "code",
   "execution_count": 1,
   "metadata": {},
   "outputs": [],
   "source": [
    "# Lese inn relavente python pakker vi ska bruke\n",
    "import pandas as pd\n",
    "import matplotlib.pyplot as plt\n",
    "#%matplotlib notebook # inkluder denne linjen om du vil åpne i Jupyter Notebook og vil lage interaktive plott\n",
    "%matplotlib inline\n",
    "\n",
    "from toboks import calculate_temp_anomalies # henter funksjonen som beregner temperaturanomalier basert på toboksmodellen"
   ]
  },
  {
   "cell_type": "markdown",
   "metadata": {},
   "source": [
    "The future data is stored in the \"futureForcing.csv\" file. As in the previous exercises we load this into a DataFrame (df). This DataFrame contains the radiative forcing associated with four RCP scenarios. \n",
    "As you can see if you print the dataframe each scenario contains a total radiative forcing, and is not separated into contributions from greenhouse gases, solar radiations, volcanic activity, agriculture and aerosols. \n",
    "The forcing runs from year 1750 to 2090, i.e. also covering the historical period, which we have looked at so far.  "
   ]
  },
  {
   "cell_type": "code",
   "execution_count": 2,
   "metadata": {},
   "outputs": [
    {
     "name": "stdout",
     "output_type": "stream",
     "text": [
      "Radiative forcing in W/m2 \n",
      " \n",
      "         RCP2.6  RCP4.5  RCP6.0  RCP8.5\n",
      "year                                  \n",
      "1751.0  -0.021  -0.021  -0.021  -0.021\n",
      "1752.0  -0.023  -0.023  -0.023  -0.023\n",
      "1753.0  -0.023  -0.023  -0.023  -0.023\n",
      "1754.0  -0.026  -0.026  -0.026  -0.026\n",
      "1755.0  -0.027  -0.027  -0.027  -0.027\n",
      "...        ...     ...     ...     ...\n",
      "2086.0   2.424   3.752   4.492   6.802\n",
      "2087.0   2.428   3.759   4.529   6.884\n",
      "2088.0   2.432   3.766   4.566   6.966\n",
      "2089.0   2.436   3.773   4.603   7.048\n",
      "2090.0   2.440   3.780   4.640   7.130\n",
      "\n",
      "[340 rows x 4 columns]\n"
     ]
    }
   ],
   "source": [
    "# les inn historisk data fra filen 'historical.csv'\n",
    "df=pd.read_csv('futureForcing.csv',index_col = 0,sep=',',encoding = \"utf-8\")\n",
    "\n",
    "print('Radiative forcing in W/m2 \\n \\n', df)"
   ]
  },
  {
   "cell_type": "markdown",
   "metadata": {},
   "source": [
    "## Future projections with the 2box model \n",
    "\n",
    "Create 6 experiments in total:\n",
    "\n",
    "* Run#1:'RCP8.5_ctrl', use the radiative forcing from RCP8.5 with **all feedbacks included**. This will be our reference experiment. \n",
    "\n",
    "* Run#2-5:'RCP8.5_LapseRate', use the radiative forcing from RCP8.5, but turn off the Stefan Bolzman feedback. Repeat for each feedback\n",
    "\n",
    "Use the mean values for the feedback parameters from the table below. With the TwoBox model, now calculate the temperature change in year 2090 with the different feedback parameters turned on and off. *To turn a feedback off just set the value to zero*. \n",
    "\n",
    "<img src=\"Bilder/table_lambda_values.png\" style=\"width:70%\" >\n",
    " "
   ]
  },
  {
   "cell_type": "code",
   "execution_count": 3,
   "metadata": {},
   "outputs": [],
   "source": [
    "#/RCP8.5_ctrl//////////////////////////////////////////////////////////////////////////////////////////////////////////\n",
    "                                                                                                                    #//\n",
    "# Radiative forcing                                                                                                 #//\n",
    "total_forcing = df['RCP8.5']  # use the RCP8.5 radiative forcing                                                    #//\n",
    "                                                                                                                    #//                                                                                               #//                                                                                                                 #//\n",
    "# Deep ocean heat uptake efficency [Wm-2K-1]                                                                        #//                                                                                                   #//\n",
    "gamma=-0.69  # best guesses [-1 to -0.5]                                                                            #//\n",
    "                                                                                                                    #//\n",
    "# konverter dataframe til data-array                                                                                #//\n",
    "radiative_forcing = total_forcing.to_numpy()                                                                        #//     \n",
    "                                                                                                                    #//\n",
    "# feedback parameters                                                                                               #//\n",
    "lambda_planck=-3.1     # Stefan Boltzmann's 'feedback' [Wm-2K-1] best guesses  [-3.3 to -3.1]                       #//\n",
    "lambda_lapse=-0.6      # Lapse rate feedback [Wm-2K-1] best guesses [-1.2 to -0.5]                                  #//\n",
    "lambda_water=1.7       # water vapor feedback [Wm-2K-1] best guesses [1.5 to 2.2]                                   #//\n",
    "lambda_cloud=0.50      # Clouds feedback [Wm-2K-1] best guesses [0.1 to 1.2]                                        #//\n",
    "lambda_albedo=0.40     # Surface albedo feedback [Wm-2K-1] best guesses [0.1 to 0.4]                                #//\n",
    "lambda_other=0.0       # Other feedbacks [Wm-2K-1]                                                                  #//\n",
    "                                                                                                                    #//\n",
    "lambda_sum=sum([lambda_planck,                                                                                      #//\n",
    "    lambda_lapse,                                                                                                   #//\n",
    "    lambda_water,                                                                                                   #//\n",
    "    lambda_cloud,                                                                                                   #//\n",
    "    lambda_albedo,                                                                                                  #//\n",
    "    lambda_other])                                                                                                  #// \n",
    "                                                                                                                    #//\n",
    "# kaller opp funksjonen som regner ut temperaturendringene                                                          #//\n",
    "df['Ts_ctrl'], To = calculate_temp_anomalies(radiative_forcing, lambda_sum, gamma)                                  #//\n",
    "                                                                                                                    #//\n",
    "# /////////////////////////////////////////////////////////////////////////////////////////////////////////////////////"
   ]
  },
  {
   "cell_type": "code",
   "execution_count": 4,
   "metadata": {},
   "outputs": [],
   "source": [
    "#/RCP8.5_noLapserate//////////////////////////////////////////////////////////////////////////////////////////////////////   \n",
    "                                                                                                                    #//\n",
    "# feedback parameters                                                                                               #//\n",
    "lambda_planck=-3.1     # Stefan Boltzmann's 'feedback' [Wm-2K-1] best guesses  [-3.3 to -3.1]                       #//\n",
    "lambda_lapse=0         # Lapse rate feedback OFF                                                                    #//\n",
    "lambda_water=1.7       # water vapor feedback [Wm-2K-1] best guesses [1.5 to 2.2]                                   #//\n",
    "lambda_cloud=0.50      # Clouds feedback [Wm-2K-1] best guesses [0.1 to 1.2]                                        #//\n",
    "lambda_albedo=0.40     # Surface albedo feedback [Wm-2K-1] best guesses [0.1 to 0.4]                                #//\n",
    "lambda_other=0.0       # Other feedbacks [Wm-2K-1]                                                                  #//\n",
    "                                                                                                                    #//\n",
    "lambda_sum=sum([lambda_planck,                                                                                      #//\n",
    "    lambda_lapse,                                                                                                   #//\n",
    "    lambda_water,                                                                                                   #//\n",
    "    lambda_cloud,                                                                                                   #//\n",
    "    lambda_albedo,                                                                                                  #//\n",
    "    lambda_other])                                                                                                  #//\n",
    "                                                                                                                    #//\n",
    "# kaller opp funksjonen som regner ut temperaturendringene                                                          #//\n",
    "df['Ts_noLapseRate'], To = calculate_temp_anomalies(radiative_forcing, lambda_sum, gamma)                           #//\n",
    "                                                                                                                    #//\n",
    "# /////////////////////////////////////////////////////////////////////////////////////////////////////////////////////"
   ]
  },
  {
   "cell_type": "code",
   "execution_count": 6,
   "metadata": {},
   "outputs": [],
   "source": [
    "#/RCP8.5_noWater///////////////////////////////////////////////////////////////////////////////////////////////////////   "
   ]
  },
  {
   "cell_type": "code",
   "execution_count": 7,
   "metadata": {},
   "outputs": [],
   "source": [
    "#/RCP8.5_noCloud///////////////////////////////////////////////////////////////////////////////////////////////////////   "
   ]
  },
  {
   "cell_type": "code",
   "execution_count": 8,
   "metadata": {},
   "outputs": [],
   "source": [
    "#/RCP8.5_noAlbedo//////////////////////////////////////////////////////////////////////////////////////////////////////"
   ]
  },
  {
   "cell_type": "markdown",
   "metadata": {},
   "source": [
    "\n",
    "<u>Reminder:</u> \n",
    "\n",
    "You can select a time period year1:year2 in a DataFrame by typing **DataFrameName['variable_name'].loc[year1:year2]**\n",
    "\n",
    "You can compute the mean of the variable for that time period by doing **DataFrameName['variable_name'].loc[year1:year2].mean**\n",
    "\n",
    "**NewObject = DataFrameName['VariableName']+some operations** will create a new DataFrame \n",
    "\n",
    "while  **DataFrameName['VariableName2']=DataFrameName['VariableName']+some  operations** adds one variable/column (with index VariableName2) to the preexisting DataFrame .\n",
    "\n",
    "\n",
    "Below, we run two loops to \n",
    "1. compute the temperature anomaly with respect to the period 1986-2005 and \n",
    "2. print the temperature anomaly at the end of the experiment in 2090."
   ]
  },
  {
   "cell_type": "code",
   "execution_count": 9,
   "metadata": {},
   "outputs": [],
   "source": [
    "# This is the old way to compute the temperature anomaly for each experiment. There is a repeating pattern that can be used in a loop. \n",
    "\n",
    "# df[dT_Ts_ctrl] =  df[Ts_ctrl]- df[Ts_ctrl].loc[1986:2005].mean()\n",
    "# df[dT_noLapseRate] =  df[Ts_noLapseRate]- df[Ts_noLapseRate].loc[1986:2005].mean()\n",
    "# df[dT_Ts_noWater] =  df[Ts_noWater]- df[Ts_noWater].loc[1986:2005].mean()\n",
    "# df[dT_Ts_noCloud] =  df[Ts_noCloud]- df[Ts_noCloud].loc[1986:2005].mean()\n",
    "# df[dT_Ts_noAlbedo] =  df[Ts_noAlbedo]- df[Ts_noAlbedo].loc[1986:2005].mean()"
   ]
  },
  {
   "cell_type": "code",
   "execution_count": 10,
   "metadata": {},
   "outputs": [],
   "source": [
    "# Sometimes the loop can save time, space and help to avoid mistakes...\n",
    "\n",
    "# 1st loop: \n",
    "namelist = ['Ts_ctrl', 'Ts_noLapseRate', 'Ts_noWater', 'Ts_noCloud' , 'Ts_noAlbedo']\n",
    "\n",
    "#for varname in namelist: # loop over 'namelist'\n",
    "#    suffix = varname.split('_')[1]    # function to get the string after the underscore sign\n",
    "#    newname = 'dT_' + suffix    # create new name by combining two strings\n",
    "#    df[newname] =  df[varname]- df[varname].loc[1986:2005].mean() # calc. temperature anomaly\n"
   ]
  },
  {
   "cell_type": "code",
   "execution_count": 11,
   "metadata": {},
   "outputs": [],
   "source": [
    "# 2nd loop:\n",
    "# selecting the temperature change at one specific year\n",
    "# below we use the temperature anomalies with respect to 1986-2005\n",
    "year = 2050\n",
    "\n",
    "namelist = ['dT_ctrl', 'dT_noLapseRate', 'dT_noWater', 'dT_noCloud' , 'dT_noAlbedo']\n",
    "#for i, varname in enumerate(namelist):\n",
    "#    Tloc = df[varname].loc[year] # locate the temp. anom. in 'year'\n",
    "#    print(varname, 'at year', year, ':', \"%.2f\" %(Tloc),'°C')"
   ]
  },
  {
   "cell_type": "markdown",
   "metadata": {},
   "source": [
    "## Questions\n",
    "\n",
    "### 1 - Test your intuition (before running the model)\n",
    "\n",
    "* What is the physical meaning of the feedback parameter? HINT: Use the units [$W m^{-2} K^{-1}$] as a guide. \n",
    "\n",
    "* What does it mean that a feedback is negative or positive? Explain in your own words.\n",
    "\n",
    "* For each of the feedback parameters explain their mean effect on climate. Which feedback do you think has the largest impact?\n",
    "\n",
    "### 2 - Investigate the impact of feedback parameters on the temperature response using the TwoBox model\n",
    "\n",
    "* Run the experiments #2-5 by copy-pasting the 'RCP8.5_noLapseRate' box and changing the feedbacks parameters and the name of the experiment accordingly (noWater, noCloud, noAlbedo)\n",
    "\n",
    "* Calculate the temperature change in year 2090 with respect to 1986-2005 for Run#1-5 and plot the results\n",
    "    - HINT: you can for example use the first loop by uncommenting the code. Make sure the loop is placed after you defined all the experiments\n",
    "\n",
    "* How does each of the feedback parameters impact the simulated temperature change? What are their relative contributions? \n",
    "\n",
    "* How does the results from the simple 2box model compare with your initial guess? \n"
   ]
  },
  {
   "cell_type": "code",
   "execution_count": 12,
   "metadata": {},
   "outputs": [],
   "source": [
    "#df['dT_ctrl'].plot(linewidth=4)\n",
    "#df['dT_noPlanck'].plot()\n",
    "#df['dT_noLapseRate'].plot()\n",
    "#df['dT_noWater'].plot()\n",
    "#df['dT_noCloud'].plot()\n",
    "#df['dT_noAlbedo'].plot()\n",
    "#plt.legend(loc='upper left')"
   ]
  },
  {
   "cell_type": "markdown",
   "metadata": {},
   "source": [
    "### 3 - For further reflection \n",
    "\n",
    "* In this simple model the feedback factors are constant in time. Discuss the potential problems with this assumption.\n",
    "\n",
    "* Can you think of other important feedback mechanisms that are not included in the TwoBox model?"
   ]
  },
  {
   "cell_type": "code",
   "execution_count": null,
   "metadata": {},
   "outputs": [],
   "source": []
  }
 ],
 "metadata": {
  "kernelspec": {
   "display_name": "Python 3",
   "language": "python",
   "name": "python3"
  },
  "language_info": {
   "codemirror_mode": {
    "name": "ipython",
    "version": 3
   },
   "file_extension": ".py",
   "mimetype": "text/x-python",
   "name": "python",
   "nbconvert_exporter": "python",
   "pygments_lexer": "ipython3",
   "version": "3.8.3"
  },
  "toc-showcode": false
 },
 "nbformat": 4,
 "nbformat_minor": 5
}
